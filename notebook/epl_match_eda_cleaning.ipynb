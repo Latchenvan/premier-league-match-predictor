{
 "cells": [
  {
   "cell_type": "code",
   "execution_count": null,
   "id": "e7cfd571",
   "metadata": {},
   "outputs": [],
   "source": [
    "import pandas as pd\n",
    "import numpy as np\n",
    "import matplotlib.pyplot as plt\n",
    "import seaborn as sns\n"
   ]
  },
  {
   "cell_type": "code",
   "execution_count": null,
   "id": "d0589a84",
   "metadata": {},
   "outputs": [],
   "source": [
    "# Load datasets\n",
    "results = pd.read_csv('data/epl_results_2022-23.csv')\n",
    "clubs = pd.read_csv('data/epl_clubs_info_2022-23.csv')\n",
    "\n",
    "# Preview\n",
    "results.head()\n"
   ]
  },
  {
   "cell_type": "code",
   "execution_count": null,
   "id": "a4bfccbd",
   "metadata": {},
   "outputs": [],
   "source": [
    "# Shape and summary\n",
    "print(\"Shape:\", results.shape)\n",
    "print(\"Columns:\", results.columns.tolist())\n",
    "results.describe()\n"
   ]
  },
  {
   "cell_type": "code",
   "execution_count": null,
   "id": "d842ade2",
   "metadata": {},
   "outputs": [],
   "source": [
    "# Encode match result\n",
    "def encode_result(ftr):\n",
    "    return {'H': 2, 'D': 1, 'A': 0}.get(ftr, np.nan)\n",
    "\n",
    "results['result_label'] = results['FTR'].map(encode_result)\n",
    "results['result_label'].value_counts()\n"
   ]
  },
  {
   "cell_type": "code",
   "execution_count": null,
   "id": "d38becd7",
   "metadata": {},
   "outputs": [],
   "source": [
    "# Convert 'Date' to datetime\n",
    "results['Date'] = pd.to_datetime(results['Date'], errors='coerce')\n",
    "\n",
    "# Extract date features\n",
    "results['Year'] = results['Date'].dt.year\n",
    "results['Month'] = results['Date'].dt.month\n",
    "results['Weekday'] = results['Date'].dt.dayofweek\n"
   ]
  },
  {
   "cell_type": "code",
   "execution_count": null,
   "id": "7226a29d",
   "metadata": {},
   "outputs": [],
   "source": [
    "# Check missing values\n",
    "missing = results.isnull().sum()\n",
    "print(missing[missing > 0])\n"
   ]
  },
  {
   "cell_type": "code",
   "execution_count": null,
   "id": "3b05efde",
   "metadata": {},
   "outputs": [],
   "source": [
    "# Save cleaned data (optional)\n",
    "results.to_csv(\"data/epl_results_cleaned.csv\", index=False)\n"
   ]
  }
 ],
 "metadata": {},
 "nbformat": 4,
 "nbformat_minor": 5
}
